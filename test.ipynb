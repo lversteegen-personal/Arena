{
 "cells": [
  {
   "cell_type": "code",
   "execution_count": 2,
   "metadata": {},
   "outputs": [
    {
     "name": "stdout",
     "output_type": "stream",
     "text": [
      "WARNING:tensorflow:From C:\\Users\\leove\\AppData\\Roaming\\Python\\Python310\\site-packages\\keras\\src\\losses.py:2976: The name tf.losses.sparse_softmax_cross_entropy is deprecated. Please use tf.compat.v1.losses.sparse_softmax_cross_entropy instead.\n",
      "\n",
      "WARNING:tensorflow:From C:\\Users\\leove\\AppData\\Roaming\\Python\\Python310\\site-packages\\keras\\src\\backend.py:1398: The name tf.executing_eagerly_outside_functions is deprecated. Please use tf.compat.v1.executing_eagerly_outside_functions instead.\n",
      "\n"
     ]
    }
   ],
   "source": [
    "import Game\n",
    "from players.Player import Player\n",
    "from players.RandomPlayer import RandomPlayer \n",
    "from players.DeathstackPlayer import DeathstackPlayer\n",
    "from players.DeathstackPlayerV2 import DeathstackPlayerV2\n",
    "from players.Pragmatic import Pragmatic\n",
    "from players.PragmaticRandom import PragmaticRandom\n",
    "import numpy as np\n",
    "import BoardEncoder as etr\n",
    "from Data import adjacency\n",
    "\n",
    "p = 0.01\n",
    "examples = []\n",
    "games = []\n",
    "rng = np.random.default_rng(0)\n",
    "\n",
    "pragmatic = Pragmatic(0,seed=0)\n",
    "pragmaticRandom = PragmaticRandom(1,seed=0)"
   ]
  },
  {
   "cell_type": "code",
   "execution_count": 3,
   "metadata": {},
   "outputs": [],
   "source": [
    "n = 1000\n",
    "\n",
    "games = []\n",
    "\n",
    "for i in range(n):\n",
    "    players = [pragmatic, pragmaticRandom]\n",
    "    game = Game.Game(players,seed=i)\n",
    "    t = 0\n",
    "\n",
    "    while t < 5 or rng.uniform()>p:\n",
    "        game.playTurn()\n",
    "        t+=1\n",
    "        if game.survivingPlayers < 2:\n",
    "            break\n",
    "\n",
    "    games.append(game)"
   ]
  },
  {
   "cell_type": "code",
   "execution_count": 5,
   "metadata": {},
   "outputs": [
    {
     "name": "stdout",
     "output_type": "stream",
     "text": [
      "Epoch 1/5\n",
      "5542/5542 [==============================] - 21s 4ms/step - loss: 0.0830 - val_loss: 0.0833\n",
      "Epoch 2/5\n",
      "5542/5542 [==============================] - 21s 4ms/step - loss: 0.0830 - val_loss: 0.0839\n",
      "Epoch 3/5\n",
      "5542/5542 [==============================] - 21s 4ms/step - loss: 0.0826 - val_loss: 0.0831\n",
      "Epoch 4/5\n",
      "5542/5542 [==============================] - 21s 4ms/step - loss: 0.0824 - val_loss: 0.0836\n",
      "Epoch 5/5\n",
      "5542/5542 [==============================] - 21s 4ms/step - loss: 0.0825 - val_loss: 0.0846\n",
      "Epoch 1/3\n",
      "666/666 [==============================] - 4s 5ms/step - eval: 0.5292\n",
      "Epoch 2/3\n",
      "666/666 [==============================] - 3s 5ms/step - eval: 0.5294\n",
      "Epoch 3/3\n",
      "666/666 [==============================] - 3s 5ms/step - eval: 0.5294\n"
     ]
    }
   ],
   "source": [
    "logEntriesPerGame = [g.logEntries for g in games]\n",
    "pragmatic.train(logEntriesPerGame, 5,3)"
   ]
  },
  {
   "cell_type": "code",
   "execution_count": 6,
   "metadata": {},
   "outputs": [],
   "source": [
    "pragmatic2 = Pragmatic(1,seed=0)\n",
    "n = 100\n",
    "\n",
    "games = []\n",
    "\n",
    "for i in range(n):\n",
    "    players = [pragmaticRandom, pragmatic]\n",
    "    game = Game.Game(players,seed=i)\n",
    "    t = 0\n",
    "\n",
    "    while t < 5 or rng.uniform()>p:\n",
    "        game.playTurn()\n",
    "        t+=1\n",
    "        if game.survivingPlayers < 2:\n",
    "            break\n",
    "\n",
    "    games.append(game)\n",
    "\n",
    "yList = []\n",
    "\n",
    "for i in range(len(games)):\n",
    "    \n",
    "    outcome = np.sum(np.arange(2)[:,None] == games[i].board.ownership[None,:],axis=1) / games[i].board.size\n",
    "    yList.append(outcome)\n",
    "\n",
    "y = np.array(yList)\n"
   ]
  },
  {
   "cell_type": "code",
   "execution_count": 7,
   "metadata": {},
   "outputs": [
    {
     "data": {
      "text/plain": [
       "array([0.4868, 0.5132])"
      ]
     },
     "execution_count": 7,
     "metadata": {},
     "output_type": "execute_result"
    }
   ],
   "source": [
    "y.mean(axis=0)"
   ]
  }
 ],
 "metadata": {
  "kernelspec": {
   "display_name": "Python 3.10.8 64-bit",
   "language": "python",
   "name": "python3"
  },
  "language_info": {
   "codemirror_mode": {
    "name": "ipython",
    "version": 3
   },
   "file_extension": ".py",
   "mimetype": "text/x-python",
   "name": "python",
   "nbconvert_exporter": "python",
   "pygments_lexer": "ipython3",
   "version": "3.10.8"
  },
  "orig_nbformat": 4,
  "vscode": {
   "interpreter": {
    "hash": "ea0df938a2fb4e996541c96a685bf803a61ab029232d990df5cc8c7e24c9f388"
   }
  }
 },
 "nbformat": 4,
 "nbformat_minor": 2
}
